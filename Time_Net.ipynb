{
 "cells": [
  {
   "cell_type": "code",
   "execution_count": 1,
   "id": "45f1fadf",
   "metadata": {},
   "outputs": [],
   "source": [
    "#ToDos\n",
    "#-generate dummy data and train the net on it, check if you get T, dqdt, q\n",
    "#---> if not make dummy net on dummy data and benchmark the odeint\n",
    "#-train separate time net then integrate it into the bigger net\n",
    "#-\n",
    "\n",
    "#Problems\n",
    "#-math trafos between scaled and unscaled t and y axis, very tricky\n",
    "#-ode int with starting y0=0 then added y0\n",
    "#-Time not predicting well, but this is needed for proper time rescalings!!\n",
    "#-unnecessary broadcastings of Tep, we got 32x32 minus 32,1 and that was crap\n",
    "#-\n",
    "\n",
    "#Idea\n",
    "#-pretrain on time_net separately then joint train"
   ]
  },
  {
   "cell_type": "code",
   "execution_count": 2,
   "id": "cc0072b6",
   "metadata": {},
   "outputs": [
    {
     "data": {
      "text/plain": [
       "'cuda'"
      ]
     },
     "execution_count": 2,
     "metadata": {},
     "output_type": "execute_result"
    }
   ],
   "source": [
    "import sys\n",
    "import torch\n",
    "\n",
    "import numpy as np\n",
    "import torch.nn as nn\n",
    "import torch.optim as optim\n",
    "import matplotlib.pyplot as plt\n",
    "\n",
    "from utils import *\n",
    "# from torchsummary import summary\n",
    "# from torchdiffeq import odeint_adjoint as odeint\n",
    "from torchdiffeq import odeint\n",
    "\n",
    "import os      \n",
    "os.environ[\"KMP_DUPLICATE_LIB_OK\"]=\"TRUE\"   \n",
    "\n",
    "device = 'cuda' if torch.cuda.is_available() else 'cpu'\n",
    "device"
   ]
  },
  {
   "cell_type": "code",
   "execution_count": null,
   "id": "9bd311d9",
   "metadata": {},
   "outputs": [],
   "source": []
  },
  {
   "cell_type": "code",
   "execution_count": 3,
   "id": "191d7796",
   "metadata": {},
   "outputs": [],
   "source": [
    "#Data Loader\n",
    "I_train, I_test, _, _, Tep_train, Tep_test, q_us_train, q_us_test, dqdt_us_train, dqdt_us_test = load_data()\n",
    "\n",
    "Tep_train = Tep_train.double()\n",
    "Tep_test = Tep_test.double()\n",
    "I_train = I_train.double()\n",
    "I_test = I_test.double()\n",
    "q_us_train = q_us_train.double()\n",
    "q_us_test = q_us_test.double()\n",
    "dqdt_us_train = dqdt_us_train.double()\n",
    "dqdt_us_test = dqdt_us_test.double()\n",
    "\n",
    "#--- q scaled ---\n",
    "q_mu = torch.mean(q_us_train)\n",
    "q_sigma = torch.std(q_us_train)\n",
    "\n",
    "q_sc_train = (q_us_train - q_mu) / q_sigma\n",
    "q_sc_test = (q_us_test - q_mu) / q_sigma\n",
    "\n",
    "#--- dqdt scaled ---\n",
    "dqdt_mu = torch.mean(dqdt_us_train)\n",
    "dqdt_sigma = torch.std(dqdt_us_train)\n",
    "\n",
    "dqdt_sc_train = (dqdt_us_train - dqdt_mu) / dqdt_sigma\n",
    "dqdt_sc_test = (dqdt_us_test - dqdt_mu) / dqdt_sigma\n"
   ]
  },
  {
   "cell_type": "code",
   "execution_count": 34,
   "id": "9c007cfa",
   "metadata": {},
   "outputs": [],
   "source": [
    "m_I = I_train.mean()\n",
    "s_I = I_train.std()"
   ]
  },
  {
   "cell_type": "code",
   "execution_count": 38,
   "id": "6efb207b",
   "metadata": {},
   "outputs": [
    {
     "data": {
      "text/plain": [
       "tensor(1.3667, device='cuda:0', dtype=torch.float64)"
      ]
     },
     "execution_count": 38,
     "metadata": {},
     "output_type": "execute_result"
    }
   ],
   "source": [
    "((I_test - m_I) / s_I).max()"
   ]
  },
  {
   "cell_type": "code",
   "execution_count": 4,
   "id": "e70ee425",
   "metadata": {},
   "outputs": [],
   "source": [
    "class Time_net(nn.Module):\n",
    "    def __init__(self):\n",
    "        super(Time_net, self).__init__()\n",
    "        \n",
    "        self.time_net = nn.Sequential(\n",
    "            nn.Linear(30, 100),\n",
    "            nn.ReLU(),\n",
    "            nn.Linear(100, 50),\n",
    "            nn.ReLU(),\n",
    "            nn.Linear(50, 15),\n",
    "            nn.ReLU(),\n",
    "            nn.Linear(15, 1),\n",
    "        ).double()\n",
    "        \n",
    "        self.is_train_time(True)\n",
    "    \n",
    "    def forward(self, Is):\n",
    "        Ts = self.time_net(Is)\n",
    "        \n",
    "        return Ts\n",
    "    \n",
    "    def is_train_time(self, is_trainable):\n",
    "        for param in self.time_net.parameters():\n",
    "            param.requires_grad = is_trainable\n",
    "            \n",
    "        self.time_train = is_trainable\n"
   ]
  },
  {
   "cell_type": "code",
   "execution_count": 5,
   "id": "2bee9f15",
   "metadata": {},
   "outputs": [],
   "source": [
    "#Testing Net for dummy inputs and y0s\n",
    "t = torch.tensor(2/50,dtype=torch.float64).to(device)\n",
    "y0 = torch.ones(32,dtype=torch.float64).to(device)\n",
    "Is = torch.randn(32,30,dtype=torch.float64).to(device)"
   ]
  },
  {
   "cell_type": "code",
   "execution_count": 6,
   "id": "2a05509b",
   "metadata": {},
   "outputs": [],
   "source": [
    "net = Time_net().to(device).double()"
   ]
  },
  {
   "cell_type": "code",
   "execution_count": 10,
   "id": "e3646d1d",
   "metadata": {
    "scrolled": true
   },
   "outputs": [
    {
     "name": "stdout",
     "output_type": "stream",
     "text": [
      "Epoch 1 \t0.00040\t100%\n",
      "Average loss = 0.0005195166272270552\n",
      "Epoch 2 \t0.00035\t100%\n",
      "Average loss = 0.0005182200505228941\n",
      "Epoch 3 \t0.00067\t100%\n",
      "Average loss = 0.0005180086503798503\n",
      "Epoch 4 \t0.00034\t100%\n",
      "Average loss = 0.0005177778124361959\n",
      "Epoch 5 \t0.00058\t100%\n",
      "Average loss = 0.0005175508328633121\n",
      "Epoch 6 \t0.00035\t100%\n",
      "Average loss = 0.0005174245659170458\n",
      "Epoch 7 \t0.00054\t16%\r"
     ]
    },
    {
     "ename": "KeyboardInterrupt",
     "evalue": "",
     "output_type": "error",
     "traceback": [
      "\u001b[1;31m---------------------------------------------------------------------------\u001b[0m",
      "\u001b[1;31mKeyboardInterrupt\u001b[0m                         Traceback (most recent call last)",
      "Input \u001b[1;32mIn [10]\u001b[0m, in \u001b[0;36m<cell line: 13>\u001b[1;34m()\u001b[0m\n\u001b[0;32m     26\u001b[0m Tep_loss \u001b[38;5;241m=\u001b[39m torch\u001b[38;5;241m.\u001b[39mnn\u001b[38;5;241m.\u001b[39mMSELoss()(Tep_pred\u001b[38;5;241m.\u001b[39msqueeze() , Tep_target_batch)\n\u001b[0;32m     27\u001b[0m loss \u001b[38;5;241m=\u001b[39m Tep_loss\n\u001b[1;32m---> 29\u001b[0m \u001b[43mloss\u001b[49m\u001b[38;5;241;43m.\u001b[39;49m\u001b[43mbackward\u001b[49m\u001b[43m(\u001b[49m\u001b[43m)\u001b[49m\n\u001b[0;32m     30\u001b[0m optimizer\u001b[38;5;241m.\u001b[39mstep()\n\u001b[0;32m     31\u001b[0m optimizer\u001b[38;5;241m.\u001b[39mzero_grad()\n",
      "File \u001b[1;32m~\\anaconda3\\envs\\robotarm2\\lib\\site-packages\\torch\\_tensor.py:396\u001b[0m, in \u001b[0;36mTensor.backward\u001b[1;34m(self, gradient, retain_graph, create_graph, inputs)\u001b[0m\n\u001b[0;32m    387\u001b[0m \u001b[38;5;28;01mif\u001b[39;00m has_torch_function_unary(\u001b[38;5;28mself\u001b[39m):\n\u001b[0;32m    388\u001b[0m     \u001b[38;5;28;01mreturn\u001b[39;00m handle_torch_function(\n\u001b[0;32m    389\u001b[0m         Tensor\u001b[38;5;241m.\u001b[39mbackward,\n\u001b[0;32m    390\u001b[0m         (\u001b[38;5;28mself\u001b[39m,),\n\u001b[1;32m   (...)\u001b[0m\n\u001b[0;32m    394\u001b[0m         create_graph\u001b[38;5;241m=\u001b[39mcreate_graph,\n\u001b[0;32m    395\u001b[0m         inputs\u001b[38;5;241m=\u001b[39minputs)\n\u001b[1;32m--> 396\u001b[0m \u001b[43mtorch\u001b[49m\u001b[38;5;241;43m.\u001b[39;49m\u001b[43mautograd\u001b[49m\u001b[38;5;241;43m.\u001b[39;49m\u001b[43mbackward\u001b[49m\u001b[43m(\u001b[49m\u001b[38;5;28;43mself\u001b[39;49m\u001b[43m,\u001b[49m\u001b[43m \u001b[49m\u001b[43mgradient\u001b[49m\u001b[43m,\u001b[49m\u001b[43m \u001b[49m\u001b[43mretain_graph\u001b[49m\u001b[43m,\u001b[49m\u001b[43m \u001b[49m\u001b[43mcreate_graph\u001b[49m\u001b[43m,\u001b[49m\u001b[43m \u001b[49m\u001b[43minputs\u001b[49m\u001b[38;5;241;43m=\u001b[39;49m\u001b[43minputs\u001b[49m\u001b[43m)\u001b[49m\n",
      "File \u001b[1;32m~\\anaconda3\\envs\\robotarm2\\lib\\site-packages\\torch\\autograd\\__init__.py:173\u001b[0m, in \u001b[0;36mbackward\u001b[1;34m(tensors, grad_tensors, retain_graph, create_graph, grad_variables, inputs)\u001b[0m\n\u001b[0;32m    168\u001b[0m     retain_graph \u001b[38;5;241m=\u001b[39m create_graph\n\u001b[0;32m    170\u001b[0m \u001b[38;5;66;03m# The reason we repeat same the comment below is that\u001b[39;00m\n\u001b[0;32m    171\u001b[0m \u001b[38;5;66;03m# some Python versions print out the first line of a multi-line function\u001b[39;00m\n\u001b[0;32m    172\u001b[0m \u001b[38;5;66;03m# calls in the traceback and some print out the last line\u001b[39;00m\n\u001b[1;32m--> 173\u001b[0m \u001b[43mVariable\u001b[49m\u001b[38;5;241;43m.\u001b[39;49m\u001b[43m_execution_engine\u001b[49m\u001b[38;5;241;43m.\u001b[39;49m\u001b[43mrun_backward\u001b[49m\u001b[43m(\u001b[49m\u001b[43m  \u001b[49m\u001b[38;5;66;43;03m# Calls into the C++ engine to run the backward pass\u001b[39;49;00m\n\u001b[0;32m    174\u001b[0m \u001b[43m    \u001b[49m\u001b[43mtensors\u001b[49m\u001b[43m,\u001b[49m\u001b[43m \u001b[49m\u001b[43mgrad_tensors_\u001b[49m\u001b[43m,\u001b[49m\u001b[43m \u001b[49m\u001b[43mretain_graph\u001b[49m\u001b[43m,\u001b[49m\u001b[43m \u001b[49m\u001b[43mcreate_graph\u001b[49m\u001b[43m,\u001b[49m\u001b[43m \u001b[49m\u001b[43minputs\u001b[49m\u001b[43m,\u001b[49m\n\u001b[0;32m    175\u001b[0m \u001b[43m    \u001b[49m\u001b[43mallow_unreachable\u001b[49m\u001b[38;5;241;43m=\u001b[39;49m\u001b[38;5;28;43;01mTrue\u001b[39;49;00m\u001b[43m,\u001b[49m\u001b[43m \u001b[49m\u001b[43maccumulate_grad\u001b[49m\u001b[38;5;241;43m=\u001b[39;49m\u001b[38;5;28;43;01mTrue\u001b[39;49;00m\u001b[43m)\u001b[49m\n",
      "\u001b[1;31mKeyboardInterrupt\u001b[0m: "
     ]
    }
   ],
   "source": [
    "\n",
    "batch_size = 32\n",
    "epochs = 100\n",
    "\n",
    "# net.train()\n",
    "batch_t_scaled = ( torch.arange(1,51)/50 ).to(device).double()\n",
    "net.is_train_time(True) # True False\n",
    "\n",
    "\n",
    "\n",
    "optimizer = torch.optim.Adam(net.parameters(), lr=0.00001)\n",
    "\n",
    "\n",
    "for epoch in range(1, epochs + 1):\n",
    "    trainloader = torch.utils.data.DataLoader(\n",
    "                                        torch.arange(len(I_train)), \n",
    "                                        batch_size=batch_size, \n",
    "                                        shuffle=True, \n",
    "                                        drop_last=True)\n",
    "    running_loss = 0\n",
    "    for i, batch_indxs in enumerate(trainloader, 0):\n",
    "        Tep_target_batch = Tep_train[batch_indxs]\n",
    "                \n",
    "        Is = I_train[batch_indxs]\n",
    "\n",
    "        Tep_pred = net( Is )\n",
    "        Tep_loss = torch.nn.MSELoss()(Tep_pred.squeeze() , Tep_target_batch)\n",
    "        loss = Tep_loss\n",
    "        \n",
    "        loss.backward()\n",
    "        optimizer.step()\n",
    "        optimizer.zero_grad()\n",
    "        \n",
    "        running_loss += loss.item()\n",
    "        \n",
    "        percent = (i + 1) / len(trainloader) * 100\n",
    "        print(f'Epoch {epoch} \\t{loss.item():.5f}\\t{percent:.0f}%', end='\\r')\n",
    "        sys.stdout.flush()\n",
    "    print('\\nAverage loss =', running_loss / len(trainloader))"
   ]
  },
  {
   "cell_type": "code",
   "execution_count": 11,
   "id": "0e04084e",
   "metadata": {},
   "outputs": [
    {
     "data": {
      "image/png": "[encoded data removed]",
      "text/plain": [
       "<Figure size 432x288 with 1 Axes>"
      ]
     },
     "metadata": {
      "needs_background": "light"
     },
     "output_type": "display_data"
    }
   ],
   "source": [
    "net.eval()\n",
    "\n",
    "plt.plot(Tep_pred.detach().cpu(), 'b')\n",
    "plt.plot(Tep_target_batch.detach().cpu(),'r');"
   ]
  },
  {
   "cell_type": "code",
   "execution_count": 12,
   "id": "6b80a660",
   "metadata": {
    "scrolled": true
   },
   "outputs": [
    {
     "data": {
      "image/png": "[encoded data removed]",
      "text/plain": [
       "<Figure size 432x288 with 1 Axes>"
      ]
     },
     "metadata": {
      "needs_background": "light"
     },
     "output_type": "display_data"
    }
   ],
   "source": [
    "plt.plot(Tep_pred.detach().cpu(),Tep_target_batch.detach().cpu(), 'o');  #this must be a id_func"
   ]
  },
  {
   "cell_type": "code",
   "execution_count": 14,
   "id": "b1d1c331",
   "metadata": {},
   "outputs": [],
   "source": [
    "torch.save(net.state_dict(), './models/time_net.pth')"
   ]
  },
  {
   "cell_type": "code",
   "execution_count": 15,
   "id": "adbf79f1",
   "metadata": {},
   "outputs": [
    {
     "data": {
      "text/plain": [
       "Time_net(\n",
       "  (time_net): Sequential(\n",
       "    (0): Linear(in_features=30, out_features=100, bias=True)\n",
       "    (1): ReLU()\n",
       "    (2): Linear(in_features=100, out_features=50, bias=True)\n",
       "    (3): ReLU()\n",
       "    (4): Linear(in_features=50, out_features=15, bias=True)\n",
       "    (5): ReLU()\n",
       "    (6): Linear(in_features=15, out_features=1, bias=True)\n",
       "  )\n",
       ")"
      ]
     },
     "execution_count": 15,
     "metadata": {},
     "output_type": "execute_result"
    }
   ],
   "source": [
    "model = Time_net().to(device)\n",
    "model.load_state_dict(torch.load('./models/time_net.pth'))\n",
    "model.eval()"
   ]
  },
  {
   "cell_type": "code",
   "execution_count": 22,
   "id": "b88db9d9",
   "metadata": {},
   "outputs": [
    {
     "name": "stdout",
     "output_type": "stream",
     "text": [
      "Loss = 0.0004973796836915599\n"
     ]
    },
    {
     "data": {
      "image/png": "[encoded data removed]",
      "text/plain": [
       "<Figure size 432x288 with 1 Axes>"
      ]
     },
     "metadata": {
      "needs_background": "light"
     },
     "output_type": "display_data"
    }
   ],
   "source": [
    "T_pred = model(I_test[:100]).squeeze()\n",
    "\n",
    "T_true = Tep_test[:100]\n",
    "\n",
    "plt.plot(T_pred.detach().cpu(), 'b')\n",
    "plt.plot(T_true.detach().cpu(), 'r');\n",
    "\n",
    "print('Loss =', torch.nn.MSELoss()(T_pred, T_true).item())"
   ]
  },
  {
   "cell_type": "code",
   "execution_count": null,
   "id": "4a1474a5",
   "metadata": {},
   "outputs": [],
   "source": []
  }
 ],
 "metadata": {
  "kernelspec": {
   "display_name": "Python 3 (ipykernel)",
   "language": "python",
   "name": "python3"
  },
  "language_info": {
   "codemirror_mode": {
    "name": "ipython",
    "version": 3
   },
   "file_extension": ".py",
   "mimetype": "text/x-python",
   "name": "python",
   "nbconvert_exporter": "python",
   "pygments_lexer": "ipython3",
   "version": "3.9.13"
  }
 },
 "nbformat": 4,
 "nbformat_minor": 5
}
